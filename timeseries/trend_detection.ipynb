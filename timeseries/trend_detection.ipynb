{
 "cells": [
  {
   "cell_type": "markdown",
   "metadata": {},
   "source": [
    "# Detecção de tendências em séries temporais com redes complexas\n",
    "\n",
    "Alexandre Farias (9761826) \\\n",
    "João Luiz Veronezzi (9844853)\n",
    "\n",
    "Todos os scripts encontrados junto com este notebook na pasta **timeseries**,\\\n",
    "até agora fazem:\n",
    "- Extração de características (feature_engineering.py)\n",
    "- Geração da rede (network_generation.py)\n",
    "- Detecção de comunidades (community_detection.py)\n",
    "- Rotulagem dos vetores de características (labelling.py)\n",
    "\n",
    "Neste notebook, daremos continuidade com a detecção e previsão das tendências,\\\n",
    "através de um algoritmo de aprendizagem não supervisionada **K-Nearest Neighbors**,\\\n",
    "e validação do modelo com **backtest**.\n"
   ]
  },
  {
   "cell_type": "markdown",
   "metadata": {},
   "source": [
    "### Importando bibliotecas necessárias"
   ]
  },
  {
   "cell_type": "code",
   "execution_count": 2,
   "metadata": {},
   "outputs": [],
   "source": [
    "import pandas as pd\n",
    "import numpy as np\n",
    "import seaborn as sea\n",
    "from sklearn.neighbors import KNeighborsClassifier as KNN"
   ]
  },
  {
   "cell_type": "markdown",
   "metadata": {},
   "source": [
    "### Importando conjunto de treino e teste"
   ]
  },
  {
   "cell_type": "code",
   "execution_count": 21,
   "metadata": {},
   "outputs": [
    {
     "name": "stdout",
     "output_type": "stream",
     "text": [
      "Conjunto de treino\n"
     ]
    },
    {
     "data": {
      "text/html": [
       "<div>\n",
       "<style scoped>\n",
       "    .dataframe tbody tr th:only-of-type {\n",
       "        vertical-align: middle;\n",
       "    }\n",
       "\n",
       "    .dataframe tbody tr th {\n",
       "        vertical-align: top;\n",
       "    }\n",
       "\n",
       "    .dataframe thead th {\n",
       "        text-align: right;\n",
       "    }\n",
       "</style>\n",
       "<table border=\"1\" class=\"dataframe\">\n",
       "  <thead>\n",
       "    <tr style=\"text-align: right;\">\n",
       "      <th></th>\n",
       "      <th>t</th>\n",
       "      <th>community</th>\n",
       "      <th>X1</th>\n",
       "      <th>X2</th>\n",
       "      <th>X3</th>\n",
       "      <th>X4</th>\n",
       "      <th>X5</th>\n",
       "      <th>X6</th>\n",
       "      <th>raw_price_label</th>\n",
       "      <th>smooth_price_label</th>\n",
       "    </tr>\n",
       "  </thead>\n",
       "  <tbody>\n",
       "    <tr>\n",
       "      <th>0</th>\n",
       "      <td>1.0</td>\n",
       "      <td>2.0</td>\n",
       "      <td>1.0</td>\n",
       "      <td>0.2</td>\n",
       "      <td>1.0</td>\n",
       "      <td>0.2</td>\n",
       "      <td>1.0</td>\n",
       "      <td>0.4</td>\n",
       "      <td>1</td>\n",
       "      <td>1</td>\n",
       "    </tr>\n",
       "    <tr>\n",
       "      <th>1</th>\n",
       "      <td>2.0</td>\n",
       "      <td>2.0</td>\n",
       "      <td>1.0</td>\n",
       "      <td>0.2</td>\n",
       "      <td>1.0</td>\n",
       "      <td>0.2</td>\n",
       "      <td>1.0</td>\n",
       "      <td>0.4</td>\n",
       "      <td>1</td>\n",
       "      <td>1</td>\n",
       "    </tr>\n",
       "    <tr>\n",
       "      <th>2</th>\n",
       "      <td>3.0</td>\n",
       "      <td>2.0</td>\n",
       "      <td>1.0</td>\n",
       "      <td>0.2</td>\n",
       "      <td>1.0</td>\n",
       "      <td>0.2</td>\n",
       "      <td>1.0</td>\n",
       "      <td>0.4</td>\n",
       "      <td>1</td>\n",
       "      <td>1</td>\n",
       "    </tr>\n",
       "    <tr>\n",
       "      <th>3</th>\n",
       "      <td>4.0</td>\n",
       "      <td>2.0</td>\n",
       "      <td>1.0</td>\n",
       "      <td>0.4</td>\n",
       "      <td>1.0</td>\n",
       "      <td>0.2</td>\n",
       "      <td>1.0</td>\n",
       "      <td>0.4</td>\n",
       "      <td>1</td>\n",
       "      <td>1</td>\n",
       "    </tr>\n",
       "    <tr>\n",
       "      <th>4</th>\n",
       "      <td>5.0</td>\n",
       "      <td>2.0</td>\n",
       "      <td>1.0</td>\n",
       "      <td>0.4</td>\n",
       "      <td>1.0</td>\n",
       "      <td>0.2</td>\n",
       "      <td>1.0</td>\n",
       "      <td>0.4</td>\n",
       "      <td>1</td>\n",
       "      <td>1</td>\n",
       "    </tr>\n",
       "  </tbody>\n",
       "</table>\n",
       "</div>"
      ],
      "text/plain": [
       "     t  community   X1   X2   X3   X4   X5   X6  raw_price_label  \\\n",
       "0  1.0        2.0  1.0  0.2  1.0  0.2  1.0  0.4                1   \n",
       "1  2.0        2.0  1.0  0.2  1.0  0.2  1.0  0.4                1   \n",
       "2  3.0        2.0  1.0  0.2  1.0  0.2  1.0  0.4                1   \n",
       "3  4.0        2.0  1.0  0.4  1.0  0.2  1.0  0.4                1   \n",
       "4  5.0        2.0  1.0  0.4  1.0  0.2  1.0  0.4                1   \n",
       "\n",
       "   smooth_price_label  \n",
       "0                   1  \n",
       "1                   1  \n",
       "2                   1  \n",
       "3                   1  \n",
       "4                   1  "
      ]
     },
     "execution_count": 21,
     "metadata": {},
     "output_type": "execute_result"
    }
   ],
   "source": [
    "train = pd.read_csv(\"../data/iterim/feature_matrix_with_labels.csv\")\n",
    "test_all_data = pd.read_csv(\"../data/iterim/test.csv\")\n",
    "test = test_all_data.loc[:, [\"t\", \"cp\", \"cpj\", \"X1\", \"X2\", \"X3\", \"X4\", \"X5\", \"X6\"]]\n",
    "\n",
    "print(\"Conjunto de treino\")\n",
    "train.head()"
   ]
  },
  {
   "cell_type": "code",
   "execution_count": 22,
   "metadata": {},
   "outputs": [
    {
     "name": "stdout",
     "output_type": "stream",
     "text": [
      "Conjunto de teste\n"
     ]
    },
    {
     "data": {
      "text/html": [
       "<div>\n",
       "<style scoped>\n",
       "    .dataframe tbody tr th:only-of-type {\n",
       "        vertical-align: middle;\n",
       "    }\n",
       "\n",
       "    .dataframe tbody tr th {\n",
       "        vertical-align: top;\n",
       "    }\n",
       "\n",
       "    .dataframe thead th {\n",
       "        text-align: right;\n",
       "    }\n",
       "</style>\n",
       "<table border=\"1\" class=\"dataframe\">\n",
       "  <thead>\n",
       "    <tr style=\"text-align: right;\">\n",
       "      <th></th>\n",
       "      <th>t</th>\n",
       "      <th>cp</th>\n",
       "      <th>cpj</th>\n",
       "      <th>X1</th>\n",
       "      <th>X2</th>\n",
       "      <th>X3</th>\n",
       "      <th>X4</th>\n",
       "      <th>X5</th>\n",
       "      <th>X6</th>\n",
       "    </tr>\n",
       "  </thead>\n",
       "  <tbody>\n",
       "    <tr>\n",
       "      <th>0</th>\n",
       "      <td>5639</td>\n",
       "      <td>77891.0</td>\n",
       "      <td>76491.2</td>\n",
       "      <td>1.0</td>\n",
       "      <td>0.6</td>\n",
       "      <td>0.8</td>\n",
       "      <td>0.6</td>\n",
       "      <td>1.0</td>\n",
       "      <td>1.0</td>\n",
       "    </tr>\n",
       "    <tr>\n",
       "      <th>1</th>\n",
       "      <td>5640</td>\n",
       "      <td>77995.0</td>\n",
       "      <td>76952.6</td>\n",
       "      <td>1.0</td>\n",
       "      <td>0.8</td>\n",
       "      <td>1.0</td>\n",
       "      <td>0.6</td>\n",
       "      <td>1.0</td>\n",
       "      <td>1.0</td>\n",
       "    </tr>\n",
       "    <tr>\n",
       "      <th>2</th>\n",
       "      <td>5641</td>\n",
       "      <td>78647.0</td>\n",
       "      <td>77467.4</td>\n",
       "      <td>1.0</td>\n",
       "      <td>0.8</td>\n",
       "      <td>1.0</td>\n",
       "      <td>0.6</td>\n",
       "      <td>1.0</td>\n",
       "      <td>1.0</td>\n",
       "    </tr>\n",
       "    <tr>\n",
       "      <th>3</th>\n",
       "      <td>5642</td>\n",
       "      <td>79071.0</td>\n",
       "      <td>78001.2</td>\n",
       "      <td>1.0</td>\n",
       "      <td>0.8</td>\n",
       "      <td>1.0</td>\n",
       "      <td>0.6</td>\n",
       "      <td>1.0</td>\n",
       "      <td>1.0</td>\n",
       "    </tr>\n",
       "    <tr>\n",
       "      <th>4</th>\n",
       "      <td>5643</td>\n",
       "      <td>79379.0</td>\n",
       "      <td>78596.6</td>\n",
       "      <td>1.0</td>\n",
       "      <td>0.8</td>\n",
       "      <td>1.0</td>\n",
       "      <td>0.6</td>\n",
       "      <td>1.0</td>\n",
       "      <td>1.0</td>\n",
       "    </tr>\n",
       "  </tbody>\n",
       "</table>\n",
       "</div>"
      ],
      "text/plain": [
       "      t       cp      cpj   X1   X2   X3   X4   X5   X6\n",
       "0  5639  77891.0  76491.2  1.0  0.6  0.8  0.6  1.0  1.0\n",
       "1  5640  77995.0  76952.6  1.0  0.8  1.0  0.6  1.0  1.0\n",
       "2  5641  78647.0  77467.4  1.0  0.8  1.0  0.6  1.0  1.0\n",
       "3  5642  79071.0  78001.2  1.0  0.8  1.0  0.6  1.0  1.0\n",
       "4  5643  79379.0  78596.6  1.0  0.8  1.0  0.6  1.0  1.0"
      ]
     },
     "execution_count": 22,
     "metadata": {},
     "output_type": "execute_result"
    }
   ],
   "source": [
    "print(\"Conjunto de teste\")\n",
    "test.head()"
   ]
  },
  {
   "cell_type": "markdown",
   "metadata": {},
   "source": [
    "## Previsão das tendências"
   ]
  },
  {
   "cell_type": "code",
   "execution_count": 31,
   "metadata": {},
   "outputs": [],
   "source": [
    "# definindo conjunto de treino e teste\n",
    "X_train = train.loc[:, [\"X1\", \"X2\", \"X3\", \"X4\", \"X5\", \"X6\"]].values\n",
    "X_test = test.loc[:, [\"X1\", \"X2\", \"X3\", \"X4\", \"X5\", \"X6\"]].values\n",
    "\n",
    "# definindo rotulos para valores brutos e alisados\n",
    "y_raw = train.loc[:, \"raw_price_label\"].values\n",
    "y_smooth = train.loc[:, \"smooth_price_label\"].values"
   ]
  },
  {
   "cell_type": "code",
   "execution_count": 32,
   "metadata": {},
   "outputs": [],
   "source": [
    "# criacao de 2 classificadores para treinar com os rotulos\n",
    "# considerando valores brutos e alisados\n",
    "classifier_raw = KNN(n_neighbors=1)\n",
    "classifier_smooth = KNN(n_neighbors=1)\n",
    "\n",
    "classifier_raw.fit(X_train, y_raw)\n",
    "classifier_smooth.fit(X_train, y_smooth)\n",
    "\n",
    "y_pred_raw = classifier_raw.predict(X_test)\n",
    "y_pred_smooth = classifier_smooth.predict(X_test)"
   ]
  }
 ],
 "metadata": {
  "kernelspec": {
   "display_name": "Python 3",
   "language": "python",
   "name": "python3"
  },
  "language_info": {
   "codemirror_mode": {
    "name": "ipython",
    "version": 3
   },
   "file_extension": ".py",
   "mimetype": "text/x-python",
   "name": "python",
   "nbconvert_exporter": "python",
   "pygments_lexer": "ipython3",
   "version": "3.6.9"
  }
 },
 "nbformat": 4,
 "nbformat_minor": 4
}
